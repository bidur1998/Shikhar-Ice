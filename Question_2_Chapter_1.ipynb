{
  "nbformat": 4,
  "nbformat_minor": 0,
  "metadata": {
    "colab": {
      "provenance": [],
      "authorship_tag": "ABX9TyOcoizqEvoKblDnzPZFyGCy",
      "include_colab_link": true
    },
    "kernelspec": {
      "name": "python3",
      "display_name": "Python 3"
    },
    "language_info": {
      "name": "python"
    }
  },
  "cells": [
    {
      "cell_type": "markdown",
      "metadata": {
        "id": "view-in-github",
        "colab_type": "text"
      },
      "source": [
        "<a href=\"https://colab.research.google.com/github/bidur1998/Shikhar-Ice/blob/main/Question_2_Chapter_1.ipynb\" target=\"_parent\"><img src=\"https://colab.research.google.com/assets/colab-badge.svg\" alt=\"Open In Colab\"/></a>"
      ]
    },
    {
      "cell_type": "code",
      "execution_count": 1,
      "metadata": {
        "colab": {
          "base_uri": "https://localhost:8080/"
        },
        "id": "d56oJVC7AJZE",
        "outputId": "93f06e91-9419-4a7c-9f57-46ec26e1afad"
      },
      "outputs": [
        {
          "output_type": "stream",
          "name": "stdout",
          "text": [
            "318698584\n"
          ]
        }
      ],
      "source": [
        "import time\n",
        "from PIL import Image\n",
        "\n",
        "# Generate a number\n",
        "current_time = int(time.time())\n",
        "generated_number = (current_time % 100) + 50\n",
        "\n",
        "# Ensure the generated number is odd\n",
        "if generated_number % 2 == 0:\n",
        "    generated_number += 10\n",
        "\n",
        "# Load the original image\n",
        "original_image = Image.open(\"/chapter1.jpg\")\n",
        "pixels = original_image.load()\n",
        "\n",
        "# Create a new image with converted pixels\n",
        "new_image = Image.new(\"RGB\", original_image.size)\n",
        "new_pixels = new_image.load()\n",
        "\n",
        "# Iterate through each pixel in the original image\n",
        "for i in range(original_image.width):\n",
        "    for j in range(original_image.height):\n",
        "        # Extract original pixel values\n",
        "        r, g, b = pixels[i, j]\n",
        "\n",
        "        # Add the generated number to each color channel\n",
        "        r_new = min(255, r + generated_number)\n",
        "        g_new = min(255, g + generated_number)\n",
        "        b_new = min(255, b + generated_number)\n",
        "\n",
        "        # Update the pixel in the new image\n",
        "        new_pixels[i, j] = (r_new, g_new, b_new)\n",
        "\n",
        "# Save the new image\n",
        "new_image.save(\"chapter1out.png\")\n",
        "\n",
        "# Calculate the sum of red pixel values in the new image\n",
        "red_sum = sum(p[0] for p in new_image.getdata())\n",
        "print(red_sum)\n"
      ]
    },
    {
      "cell_type": "code",
      "source": [
        "def separate_and_convert(s):\n",
        "    # Separate letters and numbers\n",
        "    letter_string = ''.join(c for c in s if c.isalpha())\n",
        "    number_string = ''.join(c for c in s if c.isdigit())\n",
        "\n",
        "    # Convert even numbers to ASCII Code Decimal Values\n",
        "    even_numbers = [int(num) for num in number_string if int(num) % 2 == 0]\n",
        "    ascii_numbers = [ord(str(num)) for num in even_numbers]\n",
        "\n",
        "    # Convert upper-case letters to ASCII Code Decimal Values\n",
        "    upper_case_letters = [char for char in letter_string if char.isupper()]\n",
        "    ascii_letters = [ord(char) for char in upper_case_letters]\n",
        "\n",
        "    return ''.join(map(str, even_numbers)), ''.join(map(str, ascii_numbers)), ''.join(upper_case_letters), ''.join(map(str, ascii_letters))\n",
        "\n",
        "\n",
        "# Example Scenario\n",
        "string = \"56aAww1984sktr235270aYmn145ss785fsq31D0\"\n",
        "result = separate_and_convert(string)\n",
        "\n",
        "print(\"Number String:\", result[0])\n",
        "print(\"Even Numbers:\", result[1])\n",
        "print(\"Letter String:\", result[2])\n",
        "print(\"ASCII Code Decimal Values of Upper-case Letters:\", result[3])\n"
      ],
      "metadata": {
        "colab": {
          "base_uri": "https://localhost:8080/"
        },
        "id": "8pEHklIygHqK",
        "outputId": "c09658be-22cb-43a3-cb97-14a6f3a183e8"
      },
      "execution_count": 1,
      "outputs": [
        {
          "output_type": "stream",
          "name": "stdout",
          "text": [
            "Number String: 684220480\n",
            "Even Numbers: 545652505048525648\n",
            "Letter String: AYD\n",
            "ASCII Code Decimal Values of Upper-case Letters: 658968\n"
          ]
        }
      ]
    }
  ]
}
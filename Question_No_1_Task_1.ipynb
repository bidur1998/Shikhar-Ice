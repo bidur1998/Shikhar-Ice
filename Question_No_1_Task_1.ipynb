{
  "nbformat": 4,
  "nbformat_minor": 0,
  "metadata": {
    "colab": {
      "provenance": [],
      "mount_file_id": "1fQnQZzbR4SfHTy9BHxr3i99015_fYM5O",
      "authorship_tag": "ABX9TyOmUfZSskFd5PQVRuxzHIp4",
      "include_colab_link": true
    },
    "kernelspec": {
      "name": "python3",
      "display_name": "Python 3"
    },
    "language_info": {
      "name": "python"
    }
  },
  "cells": [
    {
      "cell_type": "markdown",
      "metadata": {
        "id": "view-in-github",
        "colab_type": "text"
      },
      "source": [
        "<a href=\"https://colab.research.google.com/github/bidur1998/Shikhar-Ice/blob/main/Question_No_1_Task_1.ipynb\" target=\"_parent\"><img src=\"https://colab.research.google.com/assets/colab-badge.svg\" alt=\"Open In Colab\"/></a>"
      ]
    },
    {
      "cell_type": "code",
      "source": [
        "import pandas as pd\n",
        "import os\n",
        "\n",
        ""
      ],
      "metadata": {
        "id": "LmPeW1XipcVn"
      },
      "execution_count": null,
      "outputs": []
    },
    {
      "cell_type": "code",
      "source": [
        "# Specify the path to the uploaded folder\n",
        "uploaded_folder_path = '/content/drive/MyDrive/Assignment CSV File'\n",
        "\n",
        "# List all CSV files in the uploaded folder\n",
        "csv_files = [file for file in os.listdir(uploaded_folder_path) if file.endswith('.csv')]"
      ],
      "metadata": {
        "id": "HBToRr7YpkIF"
      },
      "execution_count": 15,
      "outputs": []
    },
    {
      "cell_type": "code",
      "source": [
        "# Loop through each CSV file and extract text\n",
        "for csv_file in csv_files:\n",
        "    # Read the CSV file using pandas\n",
        "    df = pd.read_csv(os.path.join(uploaded_folder_path, csv_file))\n",
        "\n",
        "    # Print column names for each CSV file\n",
        "    print(f\"Columns in {csv_file}: {df.columns.tolist()}\")\n",
        "\n",
        "    # Assuming the column containing large text is named 'text', you can replace it with your actual column name\n",
        "    text_column = 'text'\n",
        "\n",
        "    # Check if the specified text column exists in the DataFrame\n",
        "    if text_column in df.columns:\n",
        "        # Extract text from the specified column\n",
        "        texts = df[text_column].tolist()\n",
        "        # Append the texts to the list\n",
        "        all_texts.extend(texts)"
      ],
      "metadata": {
        "colab": {
          "base_uri": "https://localhost:8080/"
        },
        "id": "cDCihVr9qOHQ",
        "outputId": "971c842d-7580-4836-ef91-5f3713ba4636"
      },
      "execution_count": 16,
      "outputs": [
        {
          "output_type": "stream",
          "name": "stdout",
          "text": [
            "Columns in CSV1.csv: ['Unnamed: 0', 'HADM_ID', 'SHORT-TEXT', 'ICD9_CODE', 'ICD9', 'Label']\n",
            "Columns in CSV2.csv: ['Unnamed: 0', 'HADM_ID', 'TEXT', 'LABLE', 'entites', 'group']\n",
            "Columns in CSV3.csv: ['HADM_ID', 'TEXT', 'ICD9_CODE', 'Label']\n",
            "Columns in CSV4.csv: ['HADM_ID', 'TEXT', 'LABLE']\n"
          ]
        }
      ]
    },
    {
      "cell_type": "code",
      "source": [
        "# Write the extracted texts into a single text file\n",
        "output_text_file = 'output_text.txt'\n",
        "with open(output_text_file, 'w', encoding='utf-8') as output_file:\n",
        "    for text in all_texts:\n",
        "        output_file.write(str(text) + '\\n')\n",
        "\n",
        "print(f\"Texts extracted from {len(csv_files)} CSV files and stored in {output_text_file}\")"
      ],
      "metadata": {
        "colab": {
          "base_uri": "https://localhost:8080/"
        },
        "id": "dElq_CmiqWeU",
        "outputId": "1a447f10-00b5-459e-c49f-5ca38290c3d3"
      },
      "execution_count": 17,
      "outputs": [
        {
          "output_type": "stream",
          "name": "stdout",
          "text": [
            "Texts extracted from 4 CSV files and stored in output_text.txt\n"
          ]
        }
      ]
    }
  ]
}